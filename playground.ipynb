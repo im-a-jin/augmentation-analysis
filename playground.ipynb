{
 "cells": [
  {
   "cell_type": "code",
   "execution_count": 4,
   "id": "e426e617-64a5-4614-911a-23a513491dd8",
   "metadata": {},
   "outputs": [],
   "source": [
    "# Imports\n",
    "import os\n",
    "import sys\n",
    "\n",
    "import numpy as np\n",
    "import matplotlib.pyplot as plt\n",
    "import torch\n",
    "import torch.nn as nn\n",
    "from tqdm import tqdm\n",
    "\n",
    "from parameter import Parameters, parse_parameters\n",
    "from dataset import XORMixture\n",
    "from model import NonlinearModel\n",
    "import trainer\n",
    "import utils\n",
    "\n",
    "# Set print options\n",
    "np.set_printoptions(threshold=sys.maxsize)\n",
    "torch.set_printoptions(edgeitems=10000)"
   ]
  },
  {
   "cell_type": "code",
   "execution_count": 10,
   "id": "59b13e82-34e1-4312-9391-6739fb3c0936",
   "metadata": {},
   "outputs": [],
   "source": [
    "PARAMETERS = {\n",
    "    'd': 128,\n",
    "    'm': 500,\n",
    "    'n': 5000,\n",
    "    'noise_rate': 0.15,\n",
    "    'lr': 5.0,\n",
    "    'epochs': 500,\n",
    "    'p': 0.0,\n",
    "    'cluster_var': 1/25,\n",
    "    'init_var': 1/16,\n",
    "    'seed': 0,\n",
    "    'test_all': False,\n",
    "    'filename': \"out.log\",\n",
    "}\n",
    "\n",
    "PARAMS = parse_parameters(sys.argv, PARAMETERS)"
   ]
  },
  {
   "cell_type": "code",
   "execution_count": 11,
   "id": "69c7c6ac-04f3-4f44-a4cb-72fb2add197f",
   "metadata": {},
   "outputs": [],
   "source": [
    "dataset = XORMixture(\n",
    "    dims=PARAMS.d,\n",
    "    var=PARAMS.cluster_var*1/PARAMS.d,\n",
    "    n=PARAMS.n,\n",
    "    noise_rate=PARAMS.noise_rate,\n",
    ")"
   ]
  },
  {
   "cell_type": "code",
   "execution_count": 20,
   "id": "82080e60-af52-49e9-8a3d-6b1e79e04ffb",
   "metadata": {},
   "outputs": [],
   "source": [
    "A = dataset.x\n",
    "U, S, Vh = torch.linalg.svd(A)"
   ]
  },
  {
   "cell_type": "code",
   "execution_count": 23,
   "id": "2f3e1f79-062e-4917-9dda-e22f6a9a7942",
   "metadata": {},
   "outputs": [
    {
     "data": {
      "text/plain": [
       "torch.Size([128, 128])"
      ]
     },
     "execution_count": 23,
     "metadata": {},
     "output_type": "execute_result"
    }
   ],
   "source": [
    "pi = "
   ]
  },
  {
   "cell_type": "code",
   "execution_count": null,
   "id": "af45cbd5-4d5c-467f-b957-4d167603511e",
   "metadata": {},
   "outputs": [],
   "source": []
  }
 ],
 "metadata": {
  "kernelspec": {
   "display_name": "Python 3 (ipykernel)",
   "language": "python",
   "name": "python3"
  },
  "language_info": {
   "codemirror_mode": {
    "name": "ipython",
    "version": 3
   },
   "file_extension": ".py",
   "mimetype": "text/x-python",
   "name": "python",
   "nbconvert_exporter": "python",
   "pygments_lexer": "ipython3",
   "version": "3.8.9"
  }
 },
 "nbformat": 4,
 "nbformat_minor": 5
}
